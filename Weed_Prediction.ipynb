{
 "cells": [
  {
   "cell_type": "code",
   "execution_count": null,
   "id": "26e111cb-eaf9-47f0-b170-0c66a5f621a0",
   "metadata": {},
   "outputs": [],
   "source": []
  }
 ],
 "metadata": {
  "kernelspec": {
   "display_name": "",
   "name": ""
  },
  "language_info": {
   "name": ""
  }
 },
 "nbformat": 4,
 "nbformat_minor": 5
}
